{
 "cells": [
  {
   "cell_type": "code",
   "execution_count": 9,
   "id": "5d77f127-ec0c-4a24-b3c5-c18d3ce5a488",
   "metadata": {},
   "outputs": [],
   "source": [
    "from sklearn.ensemble import RandomForestClassifier\n",
    "from sklearn.model_selection import train_test_split\n",
    "import pandas as pd\n",
    "from sklearn.metrics import accuracy_score,confusion_matrix\n",
    "from sklearn import linear_model,preprocessing\n",
    "from sklearn.model_selection import RandomizedSearchCV\n",
    "import numpy as np"
   ]
  },
  {
   "cell_type": "code",
   "execution_count": 10,
   "id": "56b917a7-04c6-4a76-b0a8-31ec291b3318",
   "metadata": {},
   "outputs": [],
   "source": [
    "data_flood = pd.read_csv(\"/home/studio-lab-user/sagemaker-studiolab-notebooks/DATA/flood_data.csv\", sep=\",\",encoding='latin-1')\n",
    "\n",
    "data_non_flood = pd.read_csv(\"/home/studio-lab-user/sagemaker-studiolab-notebooks/DATA/non-flood.csv\", sep=\",\",encoding='latin-1')"
   ]
  },
  {
   "cell_type": "code",
   "execution_count": 11,
   "id": "6c2887f8-a619-43d5-8f1a-80e445ff4dba",
   "metadata": {},
   "outputs": [
    {
     "name": "stdout",
     "output_type": "stream",
     "text": [
      "      Rain  Flood\n",
      "58   225.9      1\n",
      "152  340.6      0\n",
      "35   377.4      1\n",
      "93   309.1      1\n",
      "2    270.5      1\n",
      "..     ...    ...\n",
      "5    209.1      1\n",
      "113   52.4      0\n",
      "168  105.7      0\n",
      "133  201.4      0\n",
      "176  354.0      0\n",
      "\n",
      "[196 rows x 2 columns]\n"
     ]
    }
   ],
   "source": [
    "data = pd.concat([data_flood, data_non_flood], ignore_index=True).sample(frac=1)[[\"Rain\", \"Flood\"]]\n",
    "print(data)\n",
    "data = data.values"
   ]
  },
  {
   "cell_type": "code",
   "execution_count": 12,
   "id": "e4111caf-9b84-4805-b480-05edce267589",
   "metadata": {},
   "outputs": [],
   "source": [
    "X = data[:,0].reshape(-1,1)\n",
    "y = data[:, 1].reshape(-1,1)\n",
    "#print(x)\n",
    "#print(y)\n",
    "\n",
    "train_features, test_features, train_labels, test_labels = train_test_split(X, y, test_size = 0.10, random_state = 18)\n",
    "train_features = train_features.reshape(-1,1)\n",
    "test_features = test_features.reshape(-1,1)\n",
    "train_labels = train_labels.reshape(-1,1)\n",
    "test_labels = test_labels.reshape(-1,1)"
   ]
  },
  {
   "cell_type": "code",
   "execution_count": 13,
   "id": "1608fbe7-7b88-4065-967a-b71cb3976454",
   "metadata": {},
   "outputs": [
    {
     "name": "stderr",
     "output_type": "stream",
     "text": [
      "/tmp/ipykernel_47/428078817.py:5: DataConversionWarning: A column-vector y was passed when a 1d array was expected. Please change the shape of y to (n_samples,), for example using ravel().\n",
      "  clf.fit(train_features, train_labels)\n"
     ]
    },
    {
     "name": "stdout",
     "output_type": "stream",
     "text": [
      "[0. 0. 1. 0. 1. 1. 0. 1. 0. 1. 0. 1. 1. 1. 1. 0. 0. 1. 0. 1.]\n",
      "[[0. 0. 0. 0. 1. 1. 0. 1. 0. 1. 0. 1. 1. 0. 1. 1. 0. 1. 0. 1.]]\n",
      "Accuracy of Model 0.85\n"
     ]
    },
    {
     "name": "stderr",
     "output_type": "stream",
     "text": [
      "/home/studio-lab-user/.conda/envs/default/lib/python3.9/site-packages/sklearn/preprocessing/_label.py:115: DataConversionWarning: A column-vector y was passed when a 1d array was expected. Please change the shape of y to (n_samples, ), for example using ravel().\n",
      "  y = column_or_1d(y, warn=True)\n"
     ]
    },
    {
     "data": {
      "text/plain": [
       "array([[8, 2],\n",
       "       [1, 9]])"
      ]
     },
     "execution_count": 13,
     "metadata": {},
     "output_type": "execute_result"
    }
   ],
   "source": [
    "clf = RandomForestClassifier(bootstrap=True,max_depth=66, max_features='sqrt',\n",
    "                                 min_samples_leaf=1, min_samples_split=2,\n",
    "                                 n_estimators=452)\n",
    "\n",
    "clf.fit(train_features, train_labels)\n",
    "\n",
    "lab_enc = preprocessing.LabelEncoder()\n",
    "pred_labels_encoded = lab_enc.fit_transform(test_labels)\n",
    "    \n",
    "preds = clf.predict(test_features)\n",
    "print(preds)\n",
    "print(test_labels.reshape(1,-1))\n",
    "acc = accuracy_score(test_labels, preds)\n",
    "print(f'Accuracy of Model {acc}')\n",
    "\n",
    "confusion_matrix(test_labels, preds)\n"
   ]
  },
  {
   "cell_type": "code",
   "execution_count": 14,
   "id": "e5322ae1-48d0-4b70-ac80-b4e55b891ae0",
   "metadata": {},
   "outputs": [
    {
     "data": {
      "text/plain": [
       "\"    \\n    # Number of trees in random forest\\n    n_estimators = [int(x) for x in np.linspace(start = 10, stop = 2000, num = 10)]\\n    # Number of features to consider at every split\\n    max_features = ['auto', 'sqrt']\\n    # Maximum number of levels in tree\\n    max_depth = [int(x) for x in np.linspace(1, 110, num = 11)]\\n    max_depth.append(None)\\n    # Minimum number of samples required to split a node\\n    min_samples_split = [2, 5, 10]\\n    # Minimum number of samples required at each leaf node\\n    min_samples_leaf = [1, 2, 4]\\n    # Method of selecting samples for training each tree\\n    bootstrap = [True, False]\\n\\n    random_grid = {'n_estimators': n_estimators,\\n                   'max_features': max_features,\\n                   'max_depth': max_depth,\\n                   'min_samples_split': min_samples_split,\\n                   'min_samples_leaf': min_samples_leaf,\\n                   'bootstrap': bootstrap}\\n    rf = RandomForestClassifier()\\n\\n    lab_enc = preprocessing.LabelEncoder()\\n    train_labels_encoded = lab_enc.fit_transform(train_labels)\\n\\n    rf_random = RandomizedSearchCV(estimator = rf, param_distributions = random_grid, n_iter = 20, cv = 3, verbose=2, random_state=42, n_jobs = 4)\\n    rf_random.fit(train_features, train_labels_encoded)\\n    print (rf_random.best_params_)\\n\""
      ]
     },
     "execution_count": 14,
     "metadata": {},
     "output_type": "execute_result"
    }
   ],
   "source": [
    "'''    \n",
    "    # Number of trees in random forest\n",
    "    n_estimators = [int(x) for x in np.linspace(start = 10, stop = 2000, num = 10)]\n",
    "    # Number of features to consider at every split\n",
    "    max_features = ['auto', 'sqrt']\n",
    "    # Maximum number of levels in tree\n",
    "    max_depth = [int(x) for x in np.linspace(1, 110, num = 11)]\n",
    "    max_depth.append(None)\n",
    "    # Minimum number of samples required to split a node\n",
    "    min_samples_split = [2, 5, 10]\n",
    "    # Minimum number of samples required at each leaf node\n",
    "    min_samples_leaf = [1, 2, 4]\n",
    "    # Method of selecting samples for training each tree\n",
    "    bootstrap = [True, False]\n",
    "\n",
    "    random_grid = {'n_estimators': n_estimators,\n",
    "                   'max_features': max_features,\n",
    "                   'max_depth': max_depth,\n",
    "                   'min_samples_split': min_samples_split,\n",
    "                   'min_samples_leaf': min_samples_leaf,\n",
    "                   'bootstrap': bootstrap}\n",
    "    rf = RandomForestClassifier()\n",
    "\n",
    "    lab_enc = preprocessing.LabelEncoder()\n",
    "    train_labels_encoded = lab_enc.fit_transform(train_labels)\n",
    "\n",
    "    rf_random = RandomizedSearchCV(estimator = rf, param_distributions = random_grid, n_iter = 20, cv = 3, verbose=2, random_state=42, n_jobs = 4)\n",
    "    rf_random.fit(train_features, train_labels_encoded)\n",
    "    print (rf_random.best_params_)\n",
    "'''"
   ]
  },
  {
   "cell_type": "markdown",
   "id": "20aef724-1743-4b5c-9119-f1462d3811e2",
   "metadata": {},
   "source": [
    "### "
   ]
  }
 ],
 "metadata": {
  "kernelspec": {
   "display_name": "default:Python",
   "language": "python",
   "name": "conda-env-default-py"
  },
  "language_info": {
   "codemirror_mode": {
    "name": "ipython",
    "version": 3
   },
   "file_extension": ".py",
   "mimetype": "text/x-python",
   "name": "python",
   "nbconvert_exporter": "python",
   "pygments_lexer": "ipython3",
   "version": "3.9.7"
  }
 },
 "nbformat": 4,
 "nbformat_minor": 5
}
